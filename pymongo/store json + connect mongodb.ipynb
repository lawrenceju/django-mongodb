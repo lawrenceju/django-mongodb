{
 "cells": [
  {
   "cell_type": "markdown",
   "metadata": {},
   "source": [
    "#### 把row data 轉存成 jason array 的格式###"
   ]
  },
  {
   "cell_type": "code",
   "execution_count": 15,
   "metadata": {
    "collapsed": false
   },
   "outputs": [],
   "source": [
    "d = []\n",
    "with open('1.txt', 'r') as f:\n",
    "    for ele in f.readlines():\n",
    "        name = ele.strip().split(',')\n",
    "        dic = {'公司名稱':name}\n",
    "        d.append(dic)"
   ]
  },
  {
   "cell_type": "markdown",
   "metadata": {},
   "source": [
    "### 把它餵進 json 套件,然後開檔儲存 ###"
   ]
  },
  {
   "cell_type": "code",
   "execution_count": 17,
   "metadata": {
    "collapsed": false
   },
   "outputs": [],
   "source": [
    "import json\n",
    "d1 =  json.dumps(d)\n",
    "with open('aa.json', \"w\") as f:\n",
    "        f.write(d1)\n",
    "        f.close()\n",
    "### 然後你需要把這個aa.json檔,丟進mongodb/server/bin/3.2/ 目錄下\n",
    "### 執行.\\mongoimport -d test -c testaa aa.json --jsonArray"
   ]
  },
  {
   "cell_type": "markdown",
   "metadata": {
    "collapsed": false
   },
   "source": [
    "### import pymongo 套件"
   ]
  },
  {
   "cell_type": "code",
   "execution_count": 30,
   "metadata": {
    "collapsed": false
   },
   "outputs": [
    {
     "name": "stdout",
     "output_type": "stream",
     "text": [
      "[u'\\ufeff\\u5947\\u92d0\\u79d1\\u6280\\u80a1\\u4efd\\u6709\\u9650\\u516c\\u53f8', u'\\u5947\\u92d0', u'\\u5947\\u92d0\\u79d1\\u6280', u'\\u5947']\n"
     ]
    }
   ],
   "source": [
    "import pymongo\n",
    "from pymongo import MongoClient\n",
    "\n",
    "client = MongoClient() #預設連接自己主機上的mongodb\n",
    "database = client[\"test\"] # SQL: Database Name\n",
    "collection = database[\"test10\"]   # SQL: Table Name\n",
    "\n",
    "for post in collection.find({\"公司名稱\":{\"$regex\":'奇'}},{\"_id\":0}): #collection = person,這等於select * from person\n",
    "    print post[u'\\u516c\\u53f8\\u540d\\u7a31']"
   ]
  },
  {
   "cell_type": "markdown",
   "metadata": {},
   "source": [
    "### 需要用迴圈把post下的元素印出"
   ]
  },
  {
   "cell_type": "code",
   "execution_count": 27,
   "metadata": {
    "collapsed": false
   },
   "outputs": [
    {
     "name": "stdout",
     "output_type": "stream",
     "text": [
      "﻿奇鋐科技股份有限公司\n",
      "奇鋐\n",
      "奇鋐科技\n",
      "奇\n"
     ]
    }
   ],
   "source": [
    "for i in post[u'\\u516c\\u53f8\\u540d\\u7a31']:\n",
    "    print i"
   ]
  },
  {
   "cell_type": "markdown",
   "metadata": {},
   "source": [
    "### 也可以自定義要存的json的\"keyname\""
   ]
  },
  {
   "cell_type": "code",
   "execution_count": 47,
   "metadata": {
    "collapsed": false
   },
   "outputs": [],
   "source": [
    "d = []\n",
    "with open('2.txt', 'r') as f:\n",
    "    for ele in f.readlines():\n",
    "        name = ele.strip().split(',')\n",
    "        dic = {'company':name[3],'date':name[0],'lawNumber':name[2],'law':name[5],'content':name[6]}\n",
    "        d.append(dic)"
   ]
  },
  {
   "cell_type": "code",
   "execution_count": 48,
   "metadata": {
    "collapsed": false
   },
   "outputs": [],
   "source": [
    "import json\n",
    "d1 =  json.dumps(d)\n",
    "with open('bb.json', \"w\") as f:\n",
    "        f.write(d1)\n",
    "        f.close()"
   ]
  },
  {
   "cell_type": "markdown",
   "metadata": {
    "collapsed": false
   },
   "source": [
    "###  試做查詢資料庫中的資料"
   ]
  },
  {
   "cell_type": "code",
   "execution_count": 153,
   "metadata": {
    "collapsed": false
   },
   "outputs": [],
   "source": [
    "def search_law(tag):\n",
    "    import pymongo\n",
    "    from pymongo import MongoClient\n",
    "\n",
    "    client = MongoClient() #預設連接自己主機上的mongodb\n",
    "    database = client[\"test\"] # SQL: Database Name\n",
    "    collection = database[\"test22\"]   # SQL: Table Name\n",
    "    num = collection.find({\"company\":{\"$regex\":tag}}).count()\n",
    "    print \"總共有\" + str(num) + \"筆符合\"\n",
    "    if num > 0:\n",
    "        for post in collection.find({\"company\":{\"$regex\":tag}}): #collection = person,這等於select * from person\n",
    "            print post['date'],\n",
    "            print post['law'],\n",
    "            print post['content'],\n",
    "    else:\n",
    "        print \"暫時無違規紀錄\"\n",
    "    \n",
    "            "
   ]
  },
  {
   "cell_type": "code",
   "execution_count": 183,
   "metadata": {
    "collapsed": false
   },
   "outputs": [
    {
     "name": "stdout",
     "output_type": "stream",
     "text": [
      "總共有1筆符合\n",
      "105/03/24 勞動基準法第24條;勞動基準法第30條第5項;勞動基準法第32條第1項;勞動基準法第32條第2項;勞動基準法第39條;勞動基準法第49條第1項;勞動基準法第49條第5項 延長工作時間未依規定加給工資;未依規定置備勞工出勤紀錄;延長勞工工作時間未經工會或勞資會議同意;延長工作時間超過法令規定;假日工資未給或於休假日工作未依規定加給工資;未經工會或勞資會議同意使女性於午後10時至翌晨6時時間內工作;使妊娠或哺乳期間之女工於午後十時至翌晨六時之時間內工作\n"
     ]
    }
   ],
   "source": [
    "search_law('中天')"
   ]
  },
  {
   "cell_type": "markdown",
   "metadata": {
    "collapsed": false
   },
   "source": [
    "### 試做查詢資料庫中公司薪水資料"
   ]
  },
  {
   "cell_type": "code",
   "execution_count": 132,
   "metadata": {
    "collapsed": false
   },
   "outputs": [],
   "source": [
    "d3 = []\n",
    "with open('3.txt', 'r') as f:\n",
    "    for ele in f.readlines():\n",
    "        name = ele.strip().split(',')\n",
    "        dic = {'company':name[0],'jobname':name[1],'salary':name[2],'jobyears':name[3]}\n",
    "        d3.append(dic)"
   ]
  },
  {
   "cell_type": "code",
   "execution_count": 133,
   "metadata": {
    "collapsed": true
   },
   "outputs": [],
   "source": [
    "import json\n",
    "d1 =  json.dumps(d3)\n",
    "with open('cc.json', \"w\") as f:\n",
    "        f.write(d1)\n",
    "        f.close()"
   ]
  },
  {
   "cell_type": "markdown",
   "metadata": {},
   "source": [
    "### 寫成def function 把動作包起來"
   ]
  },
  {
   "cell_type": "code",
   "execution_count": 24,
   "metadata": {
    "collapsed": false
   },
   "outputs": [],
   "source": [
    "import pymongo\n",
    "from pymongo import MongoClient\n",
    "\n",
    "client = MongoClient() #預設連接自己主機上的mongodb\n",
    "database = client[\"test\"] # SQL: Database Name\n",
    "collection = database[\"testjobs3\"]   # SQL: Table Name\n",
    "\n",
    "def search_all(tag1,tag2):\n",
    "    col = collection.find({\"$and\":[                   \n",
    "        {\"company\":{\"$regex\":tag1}},\n",
    "        {\"jobname\":{\"$regex\":tag2}}\n",
    "        ]},{\"_id\":0})\n",
    "    result=[]\n",
    "    num = col.count()\n",
    "    print \"總共有\" + str(num) + \"筆符合\"\n",
    "    if num > 0:\n",
    "        for post in col:#collection = person,這等於select * from person\n",
    "            result.append(post)\n",
    "    print result"
   ]
  },
  {
   "cell_type": "code",
   "execution_count": 25,
   "metadata": {
    "collapsed": false
   },
   "outputs": [
    {
     "name": "stdout",
     "output_type": "stream",
     "text": [
      "總共有2筆符合\n",
      "日商千住金屬\n"
     ]
    }
   ],
   "source": [
    "search_all('日商','業務')"
   ]
  },
  {
   "cell_type": "code",
   "execution_count": 3,
   "metadata": {
    "collapsed": true
   },
   "outputs": [],
   "source": [
    "def search_FT(tag2):\n",
    "    import pymongo\n",
    "    from pymongo import MongoClient\n",
    "\n",
    "    client = MongoClient() #預設連接自己主機上的mongodb\n",
    "    database = client[\"test\"] # SQL: Database Name\n",
    "    collection = database[\"testjobs3\"]   # SQL: Table Name\n",
    "    num = collection.find({\"jobname\":{\"$regex\":tag2}}).count()\n",
    "    print \"類似此職缺總共有\" + str(num) + \"筆符合\"\n",
    "    for post in collection.find({\"jobname\":{\"$regex\":tag2}}): #collection = person,這等於select * from person\n",
    "        print post"
   ]
  },
  {
   "cell_type": "code",
   "execution_count": 173,
   "metadata": {
    "collapsed": true
   },
   "outputs": [],
   "source": [
    "def search_TF(tag1):\n",
    "    import pymongo\n",
    "    from pymongo import MongoClient\n",
    "\n",
    "    client = MongoClient() #預設連接自己主機上的mongodb\n",
    "    database = client[\"test\"] # SQL: Database Name\n",
    "    collection = database[\"testjobs3\"]   # SQL: Table Name\n",
    "    num = collection.find({\"company\":{\"$regex\":tag1}}).count()\n",
    "    print \"該公司總共有\" + str(num) + \"筆職缺\"\n",
    "    for post in collection.find({\"company\":{\"$regex\":tag1}}): #collection = person,這等於select * from person\n",
    "        print post"
   ]
  },
  {
   "cell_type": "code",
   "execution_count": 4,
   "metadata": {
    "collapsed": true
   },
   "outputs": [],
   "source": [
    "def search_company(tag1,tag2):\n",
    "    import pymongo\n",
    "    from pymongo import MongoClient\n",
    "\n",
    "    client = MongoClient() #預設連接自己主機上的mongodb\n",
    "    database = client[\"test\"] # SQL: Database Name\n",
    "    collection = database[\"testjobs3\"]   # SQL: Table Name\n",
    "    num1 = collection.find({\"company\":{\"$regex\":tag1}}).count()\n",
    "    num2 = collection.find({\"jobname\":{\"$regex\":tag2}}).count()\n",
    "    if num1 > 0:\n",
    "        if num2 > 0:\n",
    "            search_all(tag1,tag2)\n",
    "        else:\n",
    "            search_TF(tag1)\n",
    "    else:\n",
    "        if num2 > 0:\n",
    "            search_FT(tag2)\n",
    "        else:\n",
    "            print \"暫時無此公司相關資料QQ\""
   ]
  },
  {
   "cell_type": "code",
   "execution_count": 5,
   "metadata": {
    "collapsed": false
   },
   "outputs": [
    {
     "name": "stdout",
     "output_type": "stream",
     "text": [
      "暫時無此公司相關資料QQ\n"
     ]
    }
   ],
   "source": [
    "search_company('eewrwer',\"dfdsf\")"
   ]
  },
  {
   "cell_type": "code",
   "execution_count": 30,
   "metadata": {
    "collapsed": false
   },
   "outputs": [
    {
     "data": {
      "text/plain": [
       "'sss'"
      ]
     },
     "execution_count": 30,
     "metadata": {},
     "output_type": "execute_result"
    }
   ],
   "source": [
    "s = 'www,sss'\n",
    "a,b = str(s).split(',')\n",
    "a\n",
    "b"
   ]
  }
 ],
 "metadata": {
  "kernelspec": {
   "display_name": "Python 2",
   "language": "python",
   "name": "python2"
  },
  "language_info": {
   "codemirror_mode": {
    "name": "ipython",
    "version": 2
   },
   "file_extension": ".py",
   "mimetype": "text/x-python",
   "name": "python",
   "nbconvert_exporter": "python",
   "pygments_lexer": "ipython2",
   "version": "2.7.11"
  }
 },
 "nbformat": 4,
 "nbformat_minor": 0
}
